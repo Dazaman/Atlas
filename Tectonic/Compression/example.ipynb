{
 "cells": [
  {
   "cell_type": "raw",
   "metadata": {},
   "source": [
    "<!--\n",
    "ATLAS NOTEBOOK TEMPLATE\n",
    "-->"
   ]
  },
  {
   "cell_type": "raw",
   "metadata": {},
   "source": [
    "<!--\n",
    "!!! LEAVE THIS CELL UNALTERED !!!\n",
    "If things won't render nicely,\n",
    "check that the 'type' of this cell\n",
    "is set to 'Raw NBConvert'.\n",
    "This cell's job is to make\n",
    "all the other cells look nice.\n",
    "-->\n",
    "\n",
    "<script>\n",
    "    $(document).ready(\n",
    "        function(){\n",
    "            $('div.input').hide()\n",
    "            }\n",
    "        )\n",
    "</script>\n",
    "<style>\n",
    "    div.cell{\n",
    "        float:left;\n",
    "        width:50%;\n",
    "    }\n",
    "</style>"
   ]
  },
  {
   "cell_type": "raw",
   "metadata": {},
   "source": [
    "<!--\n",
    "GUIDE\n",
    "\n",
    "The Atlas notebooks will have two kinds of cells in them: Raw NBConvert cells, which contain HTML code that tells the server how to render everything (don't touch these!) and Markdown cells, which will contain all the text and images for our models. Markdown cells look really messy until you 'run' the cell (Shift-Enter), at which point they magically turn into lovely, clean text and images.\n",
    "\n",
    "You can check which kind of cell you're in by looking at the cell toolbar at the top of the notebook page. Try to keep each cell roughly the same length, otherwise they may not get drawn nicely.\n",
    "\n",
    "If at any time you wish to check how the final product will look,\n",
    "go to File > Print Preview at the top.\n",
    "-->"
   ]
  },
  {
   "cell_type": "raw",
   "metadata": {},
   "source": [
    "<!--\n",
    "TOP LEFT CELL\n",
    "Use this for the heading and some introductory text (like a very short abstract).\n",
    "-->"
   ]
  },
  {
   "cell_type": "markdown",
   "metadata": {},
   "source": [
    "# NAME OF THE CODES YOU'RE USING (e.g. Badlands, Underworld)\n",
    "## Name of the geological process being demonstrated\n",
    "### Names of people involved\n",
    "\n",
    "The content in the Atlas notebooks must be written in Markdown, which is a light-weight 'mark-up' (text-beautifying) language similar to HTML, but much easier. For tips on using Markdown, see this cheat sheet - and don't be afraid to cut-and-paste!: https://en.support.wordpress.com/markdown-quick-reference/"
   ]
  },
  {
   "cell_type": "raw",
   "metadata": {},
   "source": [
    "<!--\n",
    "TOP RIGHT CELL\n",
    "Use this for a table or image or gif, plus a caption. Try to make this cell the same length as the one next to it.\n",
    "Here we have an example of an image embedded from a local source.\n",
    "-->"
   ]
  },
  {
   "cell_type": "markdown",
   "metadata": {},
   "source": [
    "![cat-sweet-kitty-animals-57416.jpeg](cat-sweet-kitty-animals-57416.jpeg)\n",
    "\n",
    "*You can insert an image by dragging and dropping it directly into the cell. However, if it's a local image, you're best off keeping it in the same directory as the notebook and referencing it with a local address (in the round brackets above).*"
   ]
  },
  {
   "cell_type": "raw",
   "metadata": {},
   "source": [
    "<!--\n",
    "MIDDLE LEFT CELL\n",
    "Use this for a table or image or gif, plus a caption.\n",
    "Here we have a gif embedded from a remote source.\n",
    "-->"
   ]
  },
  {
   "cell_type": "markdown",
   "metadata": {},
   "source": [
    "![A scintillating gif of the Big Apple](https://media.giphy.com/media/11i1P8f3LsHp7y/giphy.gif)\n",
    "\n",
    "*You can embed a gif or image from any source on the internet by simply copy-pasting the url of the image into the round brackets here. Again, any mouse-over text goes in the square brackets.*"
   ]
  },
  {
   "cell_type": "raw",
   "metadata": {},
   "source": [
    "<!--\n",
    "MIDDLE RIGHT CELL\n",
    "Use this for a table or image or gif, plus a caption. Try to make this cell the same size as the cell to the left of it.\n",
    "Here we have an example of a table, as well as a LaTeX equation:\n",
    "-->"
   ]
  },
  {
   "cell_type": "markdown",
   "metadata": {},
   "source": [
    "| **Column A** | **Column B** | **Column C**\n",
    "| --- | --- |\n",
    "| This is how | you make a table | using Markdown. |\n",
    "| Nice | and | easy! |\n",
    "| Now | some | data: |\n",
    "| 0 | 0 | 1 |\n",
    "| 0 | 1 | 0 |\n",
    "| 1 | 0 | 0 |\n",
    "\n",
    "*A caption for the above. Below, a lovely LaTeX expression:*\n",
    "\n",
    "$\\eta_{creep}(T) = \\Delta \\eta^{-T} $\n",
    "\n",
    "*Now, this cell is just a tad on the short side compared to the cell to the left of it, so let's chuck in a blank line using this tiny bit of html:*\n",
    "\n",
    "<br>"
   ]
  },
  {
   "cell_type": "raw",
   "metadata": {},
   "source": [
    "<!--\n",
    "BOTTOM LEFT CELL\n",
    "Use this cell for any citations you need. Make sure to leave the '---' at the top, which draws a thin grey horizontal line to separate the boring citations from the exciting content above.\n",
    "-->"
   ]
  },
  {
   "cell_type": "markdown",
   "metadata": {},
   "source": [
    "---\n",
    "\n",
    "**CITATIONS**\n",
    "\n",
    "* Citation 1\n",
    "* Citation 2"
   ]
  },
  {
   "cell_type": "raw",
   "metadata": {},
   "source": [
    "<!--\n",
    "BOTTOM RIGHT CELL\n",
    "Use this cell for any links you need - e.g. links to a blog post about the model, a link to a Git repository hosting the model, a link to the code used to run it, et cetera. Make sure to leave the '---' and heading at the top.\n",
    "-->"
   ]
  },
  {
   "cell_type": "markdown",
   "metadata": {},
   "source": [
    "---\n",
    "\n",
    "**LINKS**\n",
    "\n",
    "A link to the Wikipedia page for baked beans:\n",
    "[text of the link](https://en.wikipedia.org/wiki/Baked_beans)"
   ]
  },
  {
   "cell_type": "raw",
   "metadata": {},
   "source": [
    "<!--\n",
    "vvv Run the cell below when you're done! vvv\n",
    "-->"
   ]
  },
  {
   "cell_type": "code",
   "execution_count": 5,
   "metadata": {},
   "outputs": [],
   "source": [
    "%%sh\n",
    "python ../../_atlas_update.py 2>/dev/null"
   ]
  }
 ],
 "metadata": {
  "kernelspec": {
   "display_name": "Python 3",
   "language": "python",
   "name": "python3"
  },
  "language_info": {
   "codemirror_mode": {
    "name": "ipython",
    "version": 3
   },
   "file_extension": ".py",
   "mimetype": "text/x-python",
   "name": "python",
   "nbconvert_exporter": "python",
   "pygments_lexer": "ipython3",
   "version": "3.5.3"
  }
 },
 "nbformat": 4,
 "nbformat_minor": 2
}
