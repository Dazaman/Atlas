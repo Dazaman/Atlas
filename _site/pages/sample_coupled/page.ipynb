{
 "cells": [
  {
   "cell_type": "raw",
   "metadata": {},
   "source": [
    "<!--\n",
    "Ignore this cell!\n",
    "<br>\n",
    "-->\n",
    "<script>\n",
    "    $(document).ready(\n",
    "        function(){\n",
    "            $('div.input').hide();\n",
    "            $('div.output').hide();\n",
    "            }\n",
    "        )\n",
    "</script>\n",
    "<style>\n",
    "    div.cell{\n",
    "        float:left;\n",
    "        width:50%;\n",
    "    }\n",
    "</style>"
   ]
  },
  {
   "cell_type": "raw",
   "metadata": {},
   "source": [
    "<!--\n",
    "README\n",
    "\n",
    "Time to make your new BGH Atlas page!\n",
    " - Double-click on each of the 'markdown' cells below to replace the sample content with your own stuff.\n",
    " - Re-run the cell to make it render nicely (this is how your page will appear in the final product).\n",
    " - Be careful to make sure that adjacent cells are balanced in length.You can always chuck into extra blank lines like this:  <br>\n",
    " - When you're done, don't forget to run the code cell at the bottom  of this notebook to 'tie' your new page into the local copy of the Atlas.\n",
    "-->"
   ]
  },
  {
   "cell_type": "code",
   "execution_count": 1,
   "metadata": {},
   "outputs": [
    {
     "data": {
      "text/html": [
       "<style>div.cell{float:left;width:50%;}</style>"
      ],
      "text/plain": [
       "<IPython.core.display.HTML object>"
      ]
     },
     "execution_count": 1,
     "metadata": {},
     "output_type": "execute_result"
    }
   ],
   "source": [
    "### RUN THIS CELL FIRST ###\n",
    "# It will make everything\n",
    "# look nice while you're editing.\n",
    "%reload_ext autoreload\n",
    "%autoreload 2\n",
    "import ipywidgets as widgets\n",
    "import argparse\n",
    "from IPython.display import HTML\n",
    "HTML('''<style>div.cell{float:left;width:50%;}</style>''')"
   ]
  },
  {
   "cell_type": "code",
   "execution_count": 2,
   "metadata": {},
   "outputs": [],
   "source": [
    "# Tell us who you are and give your model\n",
    "#a name (between quotation marks)\n",
    "contributor_name = \"danial\"\n",
    "model_name = \"Basin Sample\"\n",
    "\n",
    "# Specify the tools you used by answering \n",
    "# True or False (no quotation marks);\n",
    "# False is assumed by default:\n",
    "underworld = False\n",
    "badlands = True\n",
    "gplates = False\n",
    "pygplates = False\n",
    "citcoms = False\n",
    "gmt = False\n",
    "other = False\n",
    "\n",
    "# Provide a category for your model between\n",
    "# the quotation marks.\n",
    "# Options for tectonic models are:\n",
    "# - \"Extension\"\n",
    "# - \"Compression\"\n",
    "# - \"Strike-slip-tectonic\"\n",
    "# Options for depositional models are:\n",
    "# - \"Basin\"\n",
    "# - \"Rift\"\n",
    "# - \"Stirke-slip-depositional\"\n",
    "# - \"Fluvio-deltaic\"\n",
    "# - \"Case-studies\"\n",
    "# Other options are:\n",
    "# - Coupled\n",
    "# - PyGplates\n",
    "# - Gplates & Citcoms\n",
    "# - Uncategorized\n",
    "# Alternatively, specify a real-world setting,\n",
    "# e.g. \"Great Barrier Reef\"\n",
    "\n",
    "category = \"Coupled\"\n",
    "\n",
    "# Provide the name of an image to be used\n",
    "# as the 'thumbnail for this model;\n",
    "# image must be in the local folder where\n",
    "#this notebook is. e.g. 'thumb.png'\n",
    "\n",
    "image = \"\"\n",
    "\n",
    "### NOW RUN THIS CELL ###"
   ]
  },
  {
   "cell_type": "markdown",
   "metadata": {},
   "source": [
    "![bghlogo.jpg](https://www.geosci.usyd.edu.au/images/1st.png)"
   ]
  },
  {
   "cell_type": "markdown",
   "metadata": {},
   "source": [
    "# NAME OF THE CODES YOU'RE USING (e.g. Badlands, Underworld)"
   ]
  },
  {
   "cell_type": "markdown",
   "metadata": {},
   "source": [
    "## Name of the geological process being demonstrated\n",
    "### Names of people involved\n",
    "The content in the Atlas notebooks must be written in Markdown, which is a light-weight 'mark-up' (text-beautifying) language similar to HTML, but much easier. For tips on using Markdown, see this cheat sheet - and don't be afraid to cut-and-paste!: https://en.support.wordpress.com/markdown-quick-reference/\n",
    "\n",
    "This cell should contain the 'body' of the text for your Atlas page: intro, method, and results summary, all in brief."
   ]
  },
  {
   "cell_type": "markdown",
   "metadata": {},
   "source": [
    "![cat-sweet-kitty-animals-57416.jpeg](cat-sweet-kitty-animals-57416.jpeg)\n",
    "\n",
    "*You can insert an image by dragging and dropping it directly into the cell. However, if it's a local image, you're best off keeping it in the same directory as the notebook and referencing it with a local address (in the round brackets above).*"
   ]
  },
  {
   "cell_type": "markdown",
   "metadata": {},
   "source": [
    "![A scintillating gif of the Big Apple](https://media.giphy.com/media/11i1P8f3LsHp7y/giphy.gif)\n",
    "\n",
    "*You can embed a gif or image from any source on the internet by simply copy-pasting the url of the image into the round brackets here. Again, any mouse-over text goes in the square brackets.*"
   ]
  },
  {
   "cell_type": "markdown",
   "metadata": {},
   "source": [
    "| **Column A** | **Column B** | **Column C** |\n",
    "| --- | --- | --- |\n",
    "| This is how | you make a table | using Markdown. |\n",
    "| Nice | and | easy! |\n",
    "| Now | some | data: |\n",
    "| 0 | 0 | 1 |\n",
    "| 0 | 1 | 0 |\n",
    "| 1 | 0 | 0 |\n",
    "\n",
    "*A caption for the above. Below, a lovely LaTeX expression:*\n",
    "\n",
    "$\\eta_{creep}(T) = \\Delta \\eta^{-T} $\n",
    "\n",
    "*Now, this cell is just a tad on the short side compared to the cell to the left of it, so let's chuck in a blank line using this tiny bit of html:*\n",
    "\n",
    "<br>"
   ]
  },
  {
   "cell_type": "markdown",
   "metadata": {},
   "source": [
    "---\n",
    "\n",
    "**CITATIONS**\n",
    "\n",
    "* Citation 1\n",
    "* Citation 2"
   ]
  },
  {
   "cell_type": "markdown",
   "metadata": {},
   "source": [
    "---\n",
    "\n",
    "**LINKS**\n",
    "\n",
    "A link to the Wikipedia page for baked beans:\n",
    "[text of the link](https://en.wikipedia.org/wiki/Baked_beans)\n",
    "<br>\n",
    "<br>\n",
    "<br>"
   ]
  },
  {
   "cell_type": "markdown",
   "metadata": {},
   "source": []
  },
  {
   "cell_type": "code",
   "execution_count": 3,
   "metadata": {},
   "outputs": [
    {
     "name": "stdout",
     "output_type": "stream",
     "text": [
      "Running from Individual notebook https://basin-genesis-hub.github.io/Atlas/pages/sample_basin/page.html\n"
     ]
    }
   ],
   "source": [
    "### RUN THIS CELL WHEN YOU'RE DONE ###\n",
    "# It will bind this notebook\n",
    "# into the local copy of the BGH Atlas\n",
    "# (don't forget to 'git push' to the repo\n",
    "# once you're finished)\n",
    "import sys\n",
    "import os\n",
    "sys.path.append(os.path.join('..', '..'))\n",
    "import _atlas_update\n",
    "\n",
    "try:\n",
    "    u\n",
    "except NameError:\n",
    "    u = None\n",
    "\n",
    "_atlas_update.bind_page(locals(), u)"
   ]
  },
  {
   "cell_type": "markdown",
   "metadata": {},
   "source": [
    ">*The ARC Research Hub for Basin Geodynamics and Evolution of Sedimentary Systems (**Basin GENESIS Hub**) is a showcase of connecting \"Big Data\" analysis and high-performance computing in an open innovation framework. The hub is fusing multidimensional data into 5D basin models (space and time, with uncertainty estimates) by coupling the evolution of mantle flow, crustal deformation, erosion, and sedimentary processes using open-source modelling tools. The BGH is funded by ARC and industry partners Equinor, Oil Search and Chevron.*"
   ]
  },
  {
   "cell_type": "markdown",
   "metadata": {},
   "source": [
    "<br>\n",
    "<br>\n",
    "\n",
    "![bghlogo.jpg](https://www.geosci.usyd.edu.au/images/1st.png)\n",
    "<br>\n",
    "<br>\n",
    "<br>\n",
    "<br>\n"
   ]
  },
  {
   "cell_type": "code",
   "execution_count": null,
   "metadata": {},
   "outputs": [],
   "source": []
  }
 ],
 "metadata": {
  "kernelspec": {
   "display_name": "Python 2",
   "language": "python",
   "name": "python2"
  },
  "language_info": {
   "codemirror_mode": {
    "name": "ipython",
    "version": 2
   },
   "file_extension": ".py",
   "mimetype": "text/x-python",
   "name": "python",
   "nbconvert_exporter": "python",
   "pygments_lexer": "ipython2",
   "version": "2.7.15+"
  }
 },
 "nbformat": 4,
 "nbformat_minor": 2
}
