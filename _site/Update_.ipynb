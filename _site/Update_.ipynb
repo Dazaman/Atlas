{
 "cells": [
  {
   "cell_type": "code",
   "execution_count": 1,
   "metadata": {},
   "outputs": [],
   "source": [
    "%reload_ext autoreload\n",
    "%autoreload 2\n",
    "import numpy as np\n",
    "import sys\n",
    "import os\n",
    "import _atlas_update as au\n",
    "\n",
    "!find . -type f -wholename \"./pages/*/page.ipynb\" > filelist.txt"
   ]
  },
  {
   "cell_type": "code",
   "execution_count": 2,
   "metadata": {},
   "outputs": [],
   "source": [
    "f = open(\"filelist.txt\", \"r\")\n",
    "lines = f.readlines()\n",
    "pages = []\n",
    "\n",
    "for i,l in enumerate(lines):\n",
    "    l = l[:-1]\n",
    "    pages.append(l)\n",
    "# print i\n",
    "# print pages\n",
    "# %run ./pages/sample_basin/page.ipynb"
   ]
  },
  {
   "cell_type": "code",
   "execution_count": 3,
   "metadata": {
    "scrolled": false
   },
   "outputs": [
    {
     "name": "stdout",
     "output_type": "stream",
     "text": [
      "Running from Update notebook \n",
      "Successfully binded page! \n",
      "Running from Update notebook \n",
      "Successfully binded page! \n",
      "Running from Update notebook \n",
      "Successfully binded page! \n",
      "Running from Update notebook \n",
      "Successfully binded page! \n",
      "Running from Update notebook \n",
      "Successfully binded page! \n",
      "Running from Update notebook \n",
      "Successfully binded page! \n",
      "Running from Update notebook \n",
      "Successfully binded page! \n",
      "Running from Update notebook \n",
      "Successfully binded page! \n",
      "Running from Update notebook \n",
      "Successfully binded page! \n",
      "Running from Update notebook \n",
      "Successfully binded page! \n",
      "Running from Update notebook \n",
      "Successfully binded page! \n",
      "Running from Update notebook \n",
      "Successfully binded page! \n"
     ]
    }
   ],
   "source": [
    "for p in pages:\n",
    "#     print p\n",
    "    d = p.split('/')[-2]\n",
    "    f = open(\"pathfile.py\", \"w\")\n",
    "    f.write('u = \"%s\"'%(d))\n",
    "    f.close()\n",
    "    %run pathfile.py\n",
    "    %run $p\n"
   ]
  },
  {
   "cell_type": "code",
   "execution_count": 4,
   "metadata": {},
   "outputs": [
    {
     "name": "stdout",
     "output_type": "stream",
     "text": [
      "12\n"
     ]
    }
   ],
   "source": [
    "atlas_info = au.load_atlas_info()\n",
    "atlas_info_size = len(atlas_info)\n",
    "size = np.array(atlas_info_size)\n",
    "print (atlas_info_size)\n",
    "# np.savetxt('/site_resources/atlas_size.txt',size)"
   ]
  },
  {
   "cell_type": "code",
   "execution_count": 5,
   "metadata": {},
   "outputs": [],
   "source": [
    "# w_path = os.path.join(*(p.split('/')[:-1]))\n",
    "# w_path += \"/widgets.py\"\n",
    "# # %run widgets.py\n",
    "# %run $w_path\n",
    "# print(w.value)"
   ]
  },
  {
   "cell_type": "code",
   "execution_count": 7,
   "metadata": {},
   "outputs": [],
   "source": [
    "# locals()"
   ]
  },
  {
   "cell_type": "code",
   "execution_count": 11,
   "metadata": {},
   "outputs": [],
   "source": [
    "# %load ./pages/sample_basin/page.ipynb"
   ]
  },
  {
   "cell_type": "code",
   "execution_count": 12,
   "metadata": {},
   "outputs": [],
   "source": [
    "#%pycat ./pages/sample_basin/page.ipynb"
   ]
  },
  {
   "cell_type": "code",
   "execution_count": 13,
   "metadata": {},
   "outputs": [],
   "source": [
    "# %%writefile ./pages/sample_basin/page.ipynb\n",
    "# contributor_name = \"danial\""
   ]
  }
 ],
 "metadata": {
  "kernelspec": {
   "display_name": "Python 2",
   "language": "python",
   "name": "python2"
  },
  "language_info": {
   "codemirror_mode": {
    "name": "ipython",
    "version": 2
   },
   "file_extension": ".py",
   "mimetype": "text/x-python",
   "name": "python",
   "nbconvert_exporter": "python",
   "pygments_lexer": "ipython2",
   "version": "2.7.15+"
  }
 },
 "nbformat": 4,
 "nbformat_minor": 2
}
