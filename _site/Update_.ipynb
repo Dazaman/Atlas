{
 "cells": [
  {
   "cell_type": "code",
   "execution_count": 1,
   "metadata": {},
   "outputs": [],
   "source": [
    "import numpy as np\n",
    "import sys\n",
    "import os\n",
    "import _atlas_update as au\n",
    "\n",
    "!find . -type f -wholename \"./pages/*/page.ipynb\" > filelist.txt"
   ]
  },
  {
   "cell_type": "code",
   "execution_count": 2,
   "metadata": {},
   "outputs": [
    {
     "data": {
      "text/plain": [
       "['./pages/sample_uncategorized/page.ipynb\\n',\n",
       " './pages/sample_strike-slip/page.ipynb\\n',\n",
       " './pages/sample_pygplates/page.ipynb\\n',\n",
       " './pages/sample_coupled/page.ipynb\\n',\n",
       " './pages/sample_fluvio-deltaic/page.ipynb\\n',\n",
       " './pages/sample_case-studies/page.ipynb\\n',\n",
       " './pages/sample_rift/page.ipynb\\n',\n",
       " './pages/sample_basin/page.ipynb\\n',\n",
       " './pages/sample_compression/page.ipynb\\n',\n",
       " './pages/sample_extension/page.ipynb\\n',\n",
       " './pages/sample_gpl_cit/page.ipynb\\n']"
      ]
     },
     "execution_count": 2,
     "metadata": {},
     "output_type": "execute_result"
    }
   ],
   "source": [
    "f = open(\"filelist.txt\", \"r\")\n",
    "lines = f.readlines()\n",
    "\n",
    "lines"
   ]
  },
  {
   "cell_type": "code",
   "execution_count": null,
   "metadata": {},
   "outputs": [],
   "source": []
  },
  {
   "cell_type": "code",
   "execution_count": 3,
   "metadata": {},
   "outputs": [
    {
     "name": "stdout",
     "output_type": "stream",
     "text": [
      "('contributor_name', 'noauthor')\n",
      "noauthor\n",
      "noauthor\n",
      "noauthor\n",
      "noauthor\n",
      "noauthor\n",
      "noauthor\n",
      "noauthor\n",
      "noauthor\n",
      "noauthor\n",
      "('before  ', 'noauthor')\n",
      "('\\n after', 'danial')\n",
      "('contributor_name', 'danial')\n",
      "noauthor\n",
      "noauthor\n",
      "noauthor\n",
      "noauthor\n",
      "noauthor\n",
      "noauthor\n",
      "noauthor\n",
      "noauthor\n",
      "noauthor\n"
     ]
    }
   ],
   "source": [
    "%run ./pages/sample_basin/page.ipynb\n",
    "\n",
    "print('before  ',locals()['contributor_name'])\n",
    "\n",
    "py = locals()\n",
    "py['contributor_name'] = 'danial'\n",
    "\n",
    "print('\\n after',locals()['contributor_name'])\n",
    "\n",
    "au.bind_page(py)\n",
    "# %run ./pages/sample_basin/page.ipynb"
   ]
  },
  {
   "cell_type": "code",
   "execution_count": 4,
   "metadata": {},
   "outputs": [],
   "source": [
    "# %run ./pages/sample_pygplates/page.ipynb\n",
    "# change_key_value('contributor_name', 'danial')"
   ]
  },
  {
   "cell_type": "code",
   "execution_count": 5,
   "metadata": {},
   "outputs": [],
   "source": [
    "# %run ./pages/sample_pygplates/page.ipynb\n",
    "# a = _atlas_update.bind_page(locals())"
   ]
  },
  {
   "cell_type": "code",
   "execution_count": null,
   "metadata": {},
   "outputs": [],
   "source": []
  },
  {
   "cell_type": "code",
   "execution_count": null,
   "metadata": {},
   "outputs": [],
   "source": []
  }
 ],
 "metadata": {
  "kernelspec": {
   "display_name": "Python 2",
   "language": "python",
   "name": "python2"
  },
  "language_info": {
   "codemirror_mode": {
    "name": "ipython",
    "version": 2
   },
   "file_extension": ".py",
   "mimetype": "text/x-python",
   "name": "python",
   "nbconvert_exporter": "python",
   "pygments_lexer": "ipython2",
   "version": "2.7.15+"
  }
 },
 "nbformat": 4,
 "nbformat_minor": 2
}
